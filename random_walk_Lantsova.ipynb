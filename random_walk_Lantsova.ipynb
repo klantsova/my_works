{
 "cells": [
  {
   "cell_type": "code",
   "execution_count": 1,
   "metadata": {},
   "outputs": [],
   "source": [
    "import numpy as np\n",
    "import matplotlib.pyplot as plt\n",
    "from IPython.display import display"
   ]
  },
  {
   "cell_type": "code",
   "execution_count": 2,
   "metadata": {},
   "outputs": [
    {
     "data": {
      "text/plain": [
       "array([ 0,  1, -1,  1,  1, -1,  1,  1, -1,  1, -1,  1, -1, -1,  1,  1, -1,\n",
       "        1,  1,  1,  1,  1,  1,  1, -1,  1, -1, -1,  1,  1,  1, -1,  1, -1,\n",
       "       -1, -1, -1,  1,  1,  1,  1,  1,  1, -1,  1, -1, -1,  1,  1,  1,  1,\n",
       "        1,  1,  1,  1, -1,  1,  1, -1,  1,  1,  1,  1,  1, -1, -1,  1,  1,\n",
       "        1,  1,  1,  1,  1, -1, -1,  1,  1,  1,  1,  1, -1, -1,  1,  1,  1,\n",
       "        1,  1,  1, -1,  1,  1,  1,  1,  1, -1, -1,  1,  1,  1, -1, -1, -1,\n",
       "       -1,  1,  1, -1,  1,  1,  1,  1, -1,  1, -1, -1, -1,  1, -1,  1, -1,\n",
       "       -1,  1,  1,  1,  1,  1, -1,  1,  1,  1,  1, -1,  1, -1,  1,  1,  1,\n",
       "        1,  1, -1,  1,  1,  1,  1,  1,  1, -1,  1,  1,  1, -1, -1,  1, -1,\n",
       "        1,  1,  1,  1,  1, -1, -1,  1, -1,  1, -1,  1, -1,  1,  1, -1,  1,\n",
       "       -1,  1,  1,  1,  1,  1,  1, -1,  1,  1, -1,  1,  1, -1, -1,  1,  1,\n",
       "        1,  1,  1, -1,  1, -1,  1, -1, -1,  1, -1,  1,  1,  1, -1,  1, -1,\n",
       "        1,  1,  1,  1, -1, -1,  1, -1,  1,  1, -1, -1, -1,  1,  1,  1,  1,\n",
       "        1,  1,  1,  1,  1, -1,  1,  1, -1, -1, -1,  1,  1,  1, -1,  1,  1,\n",
       "       -1, -1,  1, -1,  1, -1, -1, -1,  1,  1, -1,  1, -1,  1, -1, -1,  1,\n",
       "       -1, -1,  1,  1,  1,  1, -1,  1,  1,  1,  1, -1,  1,  1,  1,  1,  1,\n",
       "        1,  1,  1,  1,  1, -1,  1,  1,  1,  1,  1,  1,  1,  1,  1, -1,  1,\n",
       "        1,  1,  1, -1,  1, -1, -1,  1,  1,  1, -1,  1, -1,  1,  1,  1,  1,\n",
       "        1,  1,  1,  1,  1,  1, -1,  1, -1,  1,  1, -1,  1, -1, -1,  1, -1,\n",
       "        1,  1,  1,  1,  1,  1,  1,  1, -1,  1,  1,  1,  1,  1, -1,  1,  1,\n",
       "        1, -1,  1,  1, -1,  1, -1,  1,  1,  1,  1,  1, -1, -1,  1,  1, -1,\n",
       "        1,  1, -1,  1,  1,  1,  1,  1,  1, -1,  1,  1,  1,  1, -1,  1,  1,\n",
       "        1,  1,  1, -1, -1,  1, -1,  1,  1,  1, -1,  1,  1,  1,  1,  1, -1,\n",
       "        1,  1,  1, -1,  1,  1, -1,  1, -1,  1,  1, -1,  1,  1,  1, -1,  1,\n",
       "        1, -1,  1,  1,  1, -1,  1,  1,  1,  1, -1,  1,  1,  1,  1,  1,  1,\n",
       "        1,  1,  1,  1,  1,  1,  1, -1,  1,  1, -1,  1,  1, -1,  1,  1,  1,\n",
       "       -1,  1,  1, -1,  1,  1,  1,  1,  1,  1,  1,  1,  1, -1,  1,  1,  1,\n",
       "        1,  1, -1,  1,  1,  1, -1,  1, -1, -1, -1,  1,  1, -1,  1,  1,  1,\n",
       "        1,  1, -1,  1,  1, -1,  1,  1, -1,  1,  1,  1,  1,  1,  1, -1,  1,\n",
       "        1, -1, -1, -1, -1,  1,  1, -1, -1, -1,  1,  1,  1,  1,  1, -1, -1,\n",
       "       -1,  1,  1,  1,  1, -1, -1, -1,  1,  1,  1, -1,  1,  1,  1, -1,  1,\n",
       "        1, -1,  1, -1,  1,  1, -1,  1, -1,  1,  1,  1,  1,  1,  1,  1,  1,\n",
       "        1,  1, -1,  1,  1,  1,  1,  1,  1, -1,  1,  1, -1,  1,  1,  1, -1,\n",
       "        1,  1, -1,  1,  1,  1,  1,  1, -1,  1,  1,  1,  1,  1,  1,  1,  1,\n",
       "        1,  1,  1,  1,  1,  1, -1,  1,  1,  1,  1,  1,  1,  1, -1,  1,  1,\n",
       "        1,  1,  1,  1,  1, -1, -1,  1, -1,  1,  1,  1,  1,  1, -1, -1,  1,\n",
       "       -1, -1, -1,  1,  1,  1, -1,  1,  1,  1,  1,  1,  1,  1,  1,  1,  1,\n",
       "        1,  1, -1,  1,  1,  1, -1,  1,  1,  1,  1,  1,  1,  1,  1,  1,  1,\n",
       "        1, -1,  1,  1, -1,  1, -1,  1,  1, -1, -1,  1,  1,  1,  1,  1, -1,\n",
       "        1,  1,  1,  1,  1, -1,  1, -1,  1,  1, -1,  1,  1, -1,  1,  1,  1,\n",
       "        1, -1,  1,  1,  1,  1,  1, -1,  1,  1,  1,  1,  1,  1, -1,  1,  1,\n",
       "        1,  1,  1,  1,  1, -1, -1,  1,  1,  1,  1,  1,  1,  1,  1,  1,  1,\n",
       "        1,  1,  1,  1,  1,  1,  1, -1,  1,  1,  1, -1,  1, -1,  1,  1,  1,\n",
       "        1,  1,  1,  1, -1,  1,  1,  1, -1,  1,  1,  1,  1,  1,  1, -1,  1,\n",
       "        1,  1,  1, -1,  1, -1,  1,  1,  1,  1,  1,  1,  1,  1,  1,  1,  1,\n",
       "        1,  1,  1,  1,  1,  1,  1,  1, -1,  1,  1, -1,  1, -1, -1,  1,  1,\n",
       "        1,  1, -1, -1,  1,  1, -1,  1,  1,  1,  1,  1,  1,  1, -1,  1,  1,\n",
       "        1,  1,  1, -1,  1, -1, -1, -1,  1,  1, -1, -1, -1, -1,  1,  1,  1,\n",
       "        1,  1, -1,  1,  1,  1,  1,  1,  1,  1, -1,  1,  1,  1, -1,  1,  1,\n",
       "        1,  1, -1,  1,  1,  1,  1,  1,  1,  1,  1,  1,  1,  1,  1,  1,  1,\n",
       "        1,  1,  1,  1,  1,  1,  1,  1, -1,  1, -1,  1, -1,  1,  1,  1,  1,\n",
       "        1,  1, -1, -1, -1,  1,  1,  1,  1, -1,  1,  1,  1,  1,  1,  1,  1,\n",
       "        1, -1,  1,  1,  1, -1,  1,  1, -1,  1,  1,  1,  1,  1,  1,  1,  1,\n",
       "        1, -1,  1,  1,  1,  1,  1,  1,  1,  1,  1,  1,  1,  1,  1, -1,  1,\n",
       "        1,  1,  1,  1,  1,  1,  1,  1,  1,  1,  1,  1,  1, -1,  1, -1,  1,\n",
       "        1,  1, -1,  1,  1,  1,  1,  1,  1,  1,  1,  1,  1,  1, -1,  1,  1,\n",
       "        1,  1,  1,  1,  1, -1, -1,  1, -1,  1,  1,  1,  1, -1,  1,  1,  1,\n",
       "        1,  1,  1, -1, -1,  1,  1,  1,  1,  1,  1,  1,  1,  1, -1,  1, -1,\n",
       "       -1,  1,  1,  1, -1, -1,  1, -1,  1, -1,  1,  1,  1,  1])"
      ]
     },
     "metadata": {},
     "output_type": "display_data"
    },
    {
     "data": {
      "text/plain": [
       "array([  0,   1,   0,   1,   2,   1,   2,   3,   2,   3,   2,   3,   2,\n",
       "         1,   2,   3,   2,   3,   4,   5,   6,   7,   8,   9,   8,   9,\n",
       "         8,   7,   8,   9,  10,   9,  10,   9,   8,   7,   6,   7,   8,\n",
       "         9,  10,  11,  12,  11,  12,  11,  10,  11,  12,  13,  14,  15,\n",
       "        16,  17,  18,  17,  18,  19,  18,  19,  20,  21,  22,  23,  22,\n",
       "        21,  22,  23,  24,  25,  26,  27,  28,  27,  26,  27,  28,  29,\n",
       "        30,  31,  30,  29,  30,  31,  32,  33,  34,  35,  34,  35,  36,\n",
       "        37,  38,  39,  38,  37,  38,  39,  40,  39,  38,  37,  36,  37,\n",
       "        38,  37,  38,  39,  40,  41,  40,  41,  40,  39,  38,  39,  38,\n",
       "        39,  38,  37,  38,  39,  40,  41,  42,  41,  42,  43,  44,  45,\n",
       "        44,  45,  44,  45,  46,  47,  48,  49,  48,  49,  50,  51,  52,\n",
       "        53,  54,  53,  54,  55,  56,  55,  54,  55,  54,  55,  56,  57,\n",
       "        58,  59,  58,  57,  58,  57,  58,  57,  58,  57,  58,  59,  58,\n",
       "        59,  58,  59,  60,  61,  62,  63,  64,  63,  64,  65,  64,  65,\n",
       "        66,  65,  64,  65,  66,  67,  68,  69,  68,  69,  68,  69,  68,\n",
       "        67,  68,  67,  68,  69,  70,  69,  70,  69,  70,  71,  72,  73,\n",
       "        72,  71,  72,  71,  72,  73,  72,  71,  70,  71,  72,  73,  74,\n",
       "        75,  76,  77,  78,  79,  78,  79,  80,  79,  78,  77,  78,  79,\n",
       "        80,  79,  80,  81,  80,  79,  80,  79,  80,  79,  78,  77,  78,\n",
       "        79,  78,  79,  78,  79,  78,  77,  78,  77,  76,  77,  78,  79,\n",
       "        80,  79,  80,  81,  82,  83,  82,  83,  84,  85,  86,  87,  88,\n",
       "        89,  90,  91,  92,  91,  92,  93,  94,  95,  96,  97,  98,  99,\n",
       "       100,  99, 100, 101, 102, 103, 102, 103, 102, 101, 102, 103, 104,\n",
       "       103, 104, 103, 104, 105, 106, 107, 108, 109, 110, 111, 112, 113,\n",
       "       112, 113, 112, 113, 114, 113, 114, 113, 112, 113, 112, 113, 114,\n",
       "       115, 116, 117, 118, 119, 120, 119, 120, 121, 122, 123, 124, 123,\n",
       "       124, 125, 126, 125, 126, 127, 126, 127, 126, 127, 128, 129, 130,\n",
       "       131, 130, 129, 130, 131, 130, 131, 132, 131, 132, 133, 134, 135,\n",
       "       136, 137, 136, 137, 138, 139, 140, 139, 140, 141, 142, 143, 144,\n",
       "       143, 142, 143, 142, 143, 144, 145, 144, 145, 146, 147, 148, 149,\n",
       "       148, 149, 150, 151, 150, 151, 152, 151, 152, 151, 152, 153, 152,\n",
       "       153, 154, 155, 154, 155, 156, 155, 156, 157, 158, 157, 158, 159,\n",
       "       160, 161, 160, 161, 162, 163, 164, 165, 166, 167, 168, 169, 170,\n",
       "       171, 172, 173, 172, 173, 174, 173, 174, 175, 174, 175, 176, 177,\n",
       "       176, 177, 178, 177, 178, 179, 180, 181, 182, 183, 184, 185, 186,\n",
       "       185, 186, 187, 188, 189, 190, 189, 190, 191, 192, 191, 192, 191,\n",
       "       190, 189, 190, 191, 190, 191, 192, 193, 194, 195, 194, 195, 196,\n",
       "       195, 196, 197, 196, 197, 198, 199, 200, 201, 202, 201, 202, 203,\n",
       "       202, 201, 200, 199, 200, 201, 200, 199, 198, 199, 200, 201, 202,\n",
       "       203, 202, 201, 200, 201, 202, 203, 204, 203, 202, 201, 202, 203,\n",
       "       204, 203, 204, 205, 206, 205, 206, 207, 206, 207, 206, 207, 208,\n",
       "       207, 208, 207, 208, 209, 210, 211, 212, 213, 214, 215, 216, 217,\n",
       "       216, 217, 218, 219, 220, 221, 222, 221, 222, 223, 222, 223, 224,\n",
       "       225, 224, 225, 226, 225, 226, 227, 228, 229, 230, 229, 230, 231,\n",
       "       232, 233, 234, 235, 236, 237, 238, 239, 240, 241, 242, 243, 242,\n",
       "       243, 244, 245, 246, 247, 248, 249, 248, 249, 250, 251, 252, 253,\n",
       "       254, 255, 254, 253, 254, 253, 254, 255, 256, 257, 258, 257, 256,\n",
       "       257, 256, 255, 254, 255, 256, 257, 256, 257, 258, 259, 260, 261,\n",
       "       262, 263, 264, 265, 266, 267, 268, 267, 268, 269, 270, 269, 270,\n",
       "       271, 272, 273, 274, 275, 276, 277, 278, 279, 280, 279, 280, 281,\n",
       "       280, 281, 280, 281, 282, 281, 280, 281, 282, 283, 284, 285, 284,\n",
       "       285, 286, 287, 288, 289, 288, 289, 288, 289, 290, 289, 290, 291,\n",
       "       290, 291, 292, 293, 294, 293, 294, 295, 296, 297, 298, 297, 298,\n",
       "       299, 300, 301, 302, 303, 302, 303, 304, 305, 306, 307, 308, 309,\n",
       "       308, 307, 308, 309, 310, 311, 312, 313, 314, 315, 316, 317, 318,\n",
       "       319, 320, 321, 322, 323, 324, 323, 324, 325, 326, 325, 326, 325,\n",
       "       326, 327, 328, 329, 330, 331, 332, 331, 332, 333, 334, 333, 334,\n",
       "       335, 336, 337, 338, 339, 338, 339, 340, 341, 342, 341, 342, 341,\n",
       "       342, 343, 344, 345, 346, 347, 348, 349, 350, 351, 352, 353, 354,\n",
       "       355, 356, 357, 358, 359, 360, 359, 360, 361, 360, 361, 360, 359,\n",
       "       360, 361, 362, 363, 362, 361, 362, 363, 362, 363, 364, 365, 366,\n",
       "       367, 368, 369, 368, 369, 370, 371, 372, 373, 372, 373, 372, 371,\n",
       "       370, 371, 372, 371, 370, 369, 368, 369, 370, 371, 372, 373, 372,\n",
       "       373, 374, 375, 376, 377, 378, 379, 378, 379, 380, 381, 380, 381,\n",
       "       382, 383, 384, 383, 384, 385, 386, 387, 388, 389, 390, 391, 392,\n",
       "       393, 394, 395, 396, 397, 398, 399, 400, 401, 402, 403, 404, 405,\n",
       "       404, 405, 404, 405, 404, 405, 406, 407, 408, 409, 410, 409, 408,\n",
       "       407, 408, 409, 410, 411, 410, 411, 412, 413, 414, 415, 416, 417,\n",
       "       418, 417, 418, 419, 420, 419, 420, 421, 420, 421, 422, 423, 424,\n",
       "       425, 426, 427, 428, 429, 428, 429, 430, 431, 432, 433, 434, 435,\n",
       "       436, 437, 438, 439, 440, 441, 440, 441, 442, 443, 444, 445, 446,\n",
       "       447, 448, 449, 450, 451, 452, 453, 454, 453, 454, 453, 454, 455,\n",
       "       456, 455, 456, 457, 458, 459, 460, 461, 462, 463, 464, 465, 466,\n",
       "       465, 466, 467, 468, 469, 470, 471, 472, 471, 470, 471, 470, 471,\n",
       "       472, 473, 474, 473, 474, 475, 476, 477, 478, 479, 478, 477, 478,\n",
       "       479, 480, 481, 482, 483, 484, 485, 486, 485, 486, 485, 484, 485,\n",
       "       486, 487, 486, 485, 486, 485, 486, 485, 486, 487, 488, 489],\n",
       "      dtype=int32)"
      ]
     },
     "metadata": {},
     "output_type": "display_data"
    },
    {
     "data": {
      "text/plain": [
       "array([ 1, -1,  1,  1, -1,  1,  1, -1,  1, -1,  1, -1, -1,  1,  1, -1,  1,\n",
       "        1,  1,  1,  1,  1,  1, -1,  1, -1, -1,  1,  1,  1, -1,  1, -1, -1,\n",
       "       -1, -1,  1,  1,  1,  1,  1,  1, -1,  1, -1, -1,  1,  1,  1,  1,  1,\n",
       "        1,  1,  1, -1,  1,  1, -1,  1,  1,  1,  1,  1, -1, -1,  1,  1,  1,\n",
       "        1,  1,  1,  1, -1, -1,  1,  1,  1,  1,  1, -1, -1,  1,  1,  1,  1,\n",
       "        1,  1, -1,  1,  1,  1,  1,  1, -1, -1,  1,  1,  1, -1, -1, -1, -1,\n",
       "        1,  1, -1,  1,  1,  1,  1, -1,  1, -1, -1, -1,  1, -1,  1, -1, -1,\n",
       "        1,  1,  1,  1,  1, -1,  1,  1,  1,  1, -1,  1, -1,  1,  1,  1,  1,\n",
       "        1, -1,  1,  1,  1,  1,  1,  1, -1,  1,  1,  1, -1, -1,  1, -1,  1,\n",
       "        1,  1,  1,  1, -1, -1,  1, -1,  1, -1,  1, -1,  1,  1, -1,  1, -1,\n",
       "        1,  1,  1,  1,  1,  1, -1,  1,  1, -1,  1,  1, -1, -1,  1,  1,  1,\n",
       "        1,  1, -1,  1, -1,  1, -1, -1,  1, -1,  1,  1,  1, -1,  1, -1,  1,\n",
       "        1,  1,  1, -1, -1,  1, -1,  1,  1, -1, -1, -1,  1,  1,  1,  1,  1,\n",
       "        1,  1,  1,  1, -1,  1,  1, -1, -1, -1,  1,  1,  1, -1,  1,  1, -1,\n",
       "       -1,  1, -1,  1, -1, -1, -1,  1,  1, -1,  1, -1,  1, -1, -1,  1, -1,\n",
       "       -1,  1,  1,  1,  1, -1,  1,  1,  1,  1, -1,  1,  1,  1,  1,  1,  1,\n",
       "        1,  1,  1,  1, -1,  1,  1,  1,  1,  1,  1,  1,  1,  1, -1,  1,  1,\n",
       "        1,  1, -1,  1, -1, -1,  1,  1,  1, -1,  1, -1,  1,  1,  1,  1,  1,\n",
       "        1,  1,  1,  1,  1, -1,  1, -1,  1,  1, -1,  1, -1, -1,  1, -1,  1,\n",
       "        1,  1,  1,  1,  1,  1,  1, -1,  1,  1,  1,  1,  1, -1,  1,  1,  1,\n",
       "       -1,  1,  1, -1,  1, -1,  1,  1,  1,  1,  1, -1, -1,  1,  1, -1,  1,\n",
       "        1, -1,  1,  1,  1,  1,  1,  1, -1,  1,  1,  1,  1, -1,  1,  1,  1,\n",
       "        1,  1, -1, -1,  1, -1,  1,  1,  1, -1,  1,  1,  1,  1,  1, -1,  1,\n",
       "        1,  1, -1,  1,  1, -1,  1, -1,  1,  1, -1,  1,  1,  1, -1,  1,  1,\n",
       "       -1,  1,  1,  1, -1,  1,  1,  1,  1, -1,  1,  1,  1,  1,  1,  1,  1,\n",
       "        1,  1,  1,  1,  1,  1, -1,  1,  1, -1,  1,  1, -1,  1,  1,  1, -1,\n",
       "        1,  1, -1,  1,  1,  1,  1,  1,  1,  1,  1,  1, -1,  1,  1,  1,  1,\n",
       "        1, -1,  1,  1,  1, -1,  1, -1, -1, -1,  1,  1, -1,  1,  1,  1,  1,\n",
       "        1, -1,  1,  1, -1,  1,  1, -1,  1,  1,  1,  1,  1,  1, -1,  1,  1,\n",
       "       -1, -1, -1, -1,  1,  1, -1, -1, -1,  1,  1,  1,  1,  1, -1, -1, -1,\n",
       "        1,  1,  1,  1, -1, -1, -1,  1,  1,  1, -1,  1,  1,  1, -1,  1,  1,\n",
       "       -1,  1, -1,  1,  1, -1,  1, -1,  1,  1,  1,  1,  1,  1,  1,  1,  1,\n",
       "        1, -1,  1,  1,  1,  1,  1,  1, -1,  1,  1, -1,  1,  1,  1, -1,  1,\n",
       "        1, -1,  1,  1,  1,  1,  1, -1,  1,  1,  1,  1,  1,  1,  1,  1,  1,\n",
       "        1,  1,  1,  1,  1, -1,  1,  1,  1,  1,  1,  1,  1, -1,  1,  1,  1,\n",
       "        1,  1,  1,  1, -1, -1,  1, -1,  1,  1,  1,  1,  1, -1, -1,  1, -1,\n",
       "       -1, -1,  1,  1,  1, -1,  1,  1,  1,  1,  1,  1,  1,  1,  1,  1,  1,\n",
       "        1, -1,  1,  1,  1, -1,  1,  1,  1,  1,  1,  1,  1,  1,  1,  1,  1,\n",
       "       -1,  1,  1, -1,  1, -1,  1,  1, -1, -1,  1,  1,  1,  1,  1, -1,  1,\n",
       "        1,  1,  1,  1, -1,  1, -1,  1,  1, -1,  1,  1, -1,  1,  1,  1,  1,\n",
       "       -1,  1,  1,  1,  1,  1, -1,  1,  1,  1,  1,  1,  1, -1,  1,  1,  1,\n",
       "        1,  1,  1,  1, -1, -1,  1,  1,  1,  1,  1,  1,  1,  1,  1,  1,  1,\n",
       "        1,  1,  1,  1,  1,  1, -1,  1,  1,  1, -1,  1, -1,  1,  1,  1,  1,\n",
       "        1,  1,  1, -1,  1,  1,  1, -1,  1,  1,  1,  1,  1,  1, -1,  1,  1,\n",
       "        1,  1, -1,  1, -1,  1,  1,  1,  1,  1,  1,  1,  1,  1,  1,  1,  1,\n",
       "        1,  1,  1,  1,  1,  1,  1, -1,  1,  1, -1,  1, -1, -1,  1,  1,  1,\n",
       "        1, -1, -1,  1,  1, -1,  1,  1,  1,  1,  1,  1,  1, -1,  1,  1,  1,\n",
       "        1,  1, -1,  1, -1, -1, -1,  1,  1, -1, -1, -1, -1,  1,  1,  1,  1,\n",
       "        1, -1,  1,  1,  1,  1,  1,  1,  1, -1,  1,  1,  1, -1,  1,  1,  1,\n",
       "        1, -1,  1,  1,  1,  1,  1,  1,  1,  1,  1,  1,  1,  1,  1,  1,  1,\n",
       "        1,  1,  1,  1,  1,  1,  1, -1,  1, -1,  1, -1,  1,  1,  1,  1,  1,\n",
       "        1, -1, -1, -1,  1,  1,  1,  1, -1,  1,  1,  1,  1,  1,  1,  1,  1,\n",
       "       -1,  1,  1,  1, -1,  1,  1, -1,  1,  1,  1,  1,  1,  1,  1,  1,  1,\n",
       "       -1,  1,  1,  1,  1,  1,  1,  1,  1,  1,  1,  1,  1,  1, -1,  1,  1,\n",
       "        1,  1,  1,  1,  1,  1,  1,  1,  1,  1,  1,  1, -1,  1, -1,  1,  1,\n",
       "        1, -1,  1,  1,  1,  1,  1,  1,  1,  1,  1,  1,  1, -1,  1,  1,  1,\n",
       "        1,  1,  1,  1, -1, -1,  1, -1,  1,  1,  1,  1, -1,  1,  1,  1,  1,\n",
       "        1,  1, -1, -1,  1,  1,  1,  1,  1,  1,  1,  1,  1, -1,  1, -1, -1,\n",
       "        1,  1,  1, -1, -1,  1, -1,  1, -1,  1,  1,  1,  1])"
      ]
     },
     "metadata": {},
     "output_type": "display_data"
    }
   ],
   "source": [
    "n=np.random.randint(1000)\n",
    "k=np.array(np.random.randint(-1,0,n).tolist()+np.random.randint(1,2,999-n).tolist())\n",
    "np.random.shuffle(k)\n",
    "\n",
    "k1=np.array([0]+k.tolist())\n",
    "\n",
    "k2=k1.cumsum()\n",
    "display(k1,k2,k)"
   ]
  },
  {
   "cell_type": "markdown",
   "metadata": {},
   "source": [
    "### Минимальное и максимальное значение по траектории"
   ]
  },
  {
   "cell_type": "code",
   "execution_count": 3,
   "metadata": {},
   "outputs": [
    {
     "name": "stdout",
     "output_type": "stream",
     "text": [
      "1. a)Max по траектории: 489 , таких точек: 1\n",
      "1. b)Min по траектории: 0 , таких точек: 2\n"
     ]
    }
   ],
   "source": [
    "MAX=max(k2)\n",
    "MIN=min(k2)\n",
    "imax=np.where(k2==MAX)\n",
    "imin=np.where(k2==MIN)\n",
    "print(\"1. a)Max по траектории:\",MAX,\", таких точек:\",len(imax[0]))\n",
    "print(\"1. b)Min по траектории:\",MIN,\", таких точек:\",len(imin[0]))"
   ]
  },
  {
   "cell_type": "markdown",
   "metadata": {},
   "source": [
    "### Найдем первый момент времени, когда на прогулке было сделано более 10 шагов в одну сторону"
   ]
  },
  {
   "cell_type": "code",
   "execution_count": 4,
   "metadata": {},
   "outputs": [
    {
     "name": "stdout",
     "output_type": "stream",
     "text": [
      "2. Первый раз прошел 10 шагов в одну сторону, начиная с 267 шага, и до 276 шага\n"
     ]
    }
   ],
   "source": [
    "l=1\n",
    "for i in np.arange(len(k)):\n",
    "    if l==10:\n",
    "        print(\"2. Первый раз прошел 10 шагов в одну сторону, начиная с\",i-8,\"шага, и до\",i+1,\"шага\")\n",
    "        break\n",
    "    elif i==(len(k)-1):\n",
    "        print(\"2. Нигде не проходит 10 шагов в одну сторону\")\n",
    "    else:\n",
    "        if k[i]==k[i+1]:\n",
    "            l=l+1\n",
    "        else:\n",
    "            l=1"
   ]
  },
  {
   "cell_type": "markdown",
   "metadata": {},
   "source": [
    "### Найдем максимальное количество шагов в одну сторону"
   ]
  },
  {
   "cell_type": "code",
   "execution_count": 5,
   "metadata": {},
   "outputs": [
    {
     "name": "stdout",
     "output_type": "stream",
     "text": [
      "3. Max кол-во шагов в одну сторону равно 22 начиная с 836 шага, и до 858 шага\n"
     ]
    }
   ],
   "source": [
    "l=1\n",
    "h=[]\n",
    "for i in np.arange(len(k)):\n",
    "    if i==(len(k)-1):\n",
    "        h.append(l)\n",
    "        break\n",
    "    if k[i]==k[i+1]:\n",
    "        l=l+1\n",
    "    else:\n",
    "        h.append(l)\n",
    "        l=1\n",
    "print(\"3. Max кол-во шагов в одну сторону равно\",max(h),\n",
    "      \"начиная с\",sum(h[:h.index(max(h))])+1,\"шага, и до\",sum(h[:h.index(max(h))])+max(h)+1,\"шага\")"
   ]
  },
  {
   "cell_type": "markdown",
   "metadata": {},
   "source": [
    "### Визуальное решение (график)"
   ]
  },
  {
   "cell_type": "code",
   "execution_count": 6,
   "metadata": {},
   "outputs": [
    {
     "data": {
      "image/png": "[encoded data removed]",
      "text/plain": [
       "<Figure size 1080x576 with 1 Axes>"
      ]
     },
     "metadata": {
      "needs_background": "light"
     },
     "output_type": "display_data"
    }
   ],
   "source": [
    "fig = plt.figure()\n",
    "fig.set_size_inches(15, 8)\n",
    "ax = fig.add_subplot(1, 1, 1)\n",
    "ax.set_title('Случайная прогулка')\n",
    "ax.set_xlabel('Шаги')\n",
    "ax.set_ylabel('Случайное блуждание')\n",
    "ax.plot(np.arange(1,1001),k2,label=\"блуждание\");\n",
    "ax.plot(imax,MAX,\"go\",label=\"точка максимума\");\n",
    "ax.plot(imin,MIN,\"ko\",label=\"точка минимума\");\n",
    "\n",
    "l=1\n",
    "for i in np.arange(len(k)):\n",
    "    if l==10:\n",
    "        ax.plot(np.arange(i-8,i+2),k2[i-8:i+2],\"m\",lw=3,label=\"первые 10 шагов в одну сторону\");\n",
    "        break\n",
    "    elif i==(len(k)-1):\n",
    "        print(\"Нигде не проходит 10 шагов в одну сторону, нельзя построить график :(\")\n",
    "    else:\n",
    "        if k[i]==k[i+1]:\n",
    "            l=l+1\n",
    "        else:\n",
    "            l=1\n",
    "\n",
    "p=np.arange((sum(h[:h.index(max(h))])+1),(sum(h[:h.index(max(h))])+max(h)+1))\n",
    "ax.plot(p,k2[(sum(h[:h.index(max(h))])+1):(sum(h[:h.index(max(h))])+max(h)+1)],\"y\",label=\"max кол-во шагов в одну сторону\");\n",
    "ax.legend(loc='best');"
   ]
  }
 ],
 "metadata": {
  "kernelspec": {
   "display_name": "Python 3",
   "language": "python",
   "name": "python3"
  },
  "language_info": {
   "codemirror_mode": {
    "name": "ipython",
    "version": 3
   },
   "file_extension": ".py",
   "mimetype": "text/x-python",
   "name": "python",
   "nbconvert_exporter": "python",
   "pygments_lexer": "ipython3",
   "version": "3.8.5"
  }
 },
 "nbformat": 4,
 "nbformat_minor": 4
}
